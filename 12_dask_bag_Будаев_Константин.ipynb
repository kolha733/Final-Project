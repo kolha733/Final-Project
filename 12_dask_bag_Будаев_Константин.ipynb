{
 "cells": [
  {
   "cell_type": "markdown",
   "metadata": {},
   "source": [
    "# Dask Bag"
   ]
  },
  {
   "cell_type": "markdown",
   "metadata": {},
   "source": [
    "## Лабораторная работа 12"
   ]
  },
  {
   "cell_type": "code",
   "execution_count": 1,
   "metadata": {},
   "outputs": [],
   "source": [
    "import dask.bag as db\n",
    "import json\n",
    "import re\n",
    "import pandas as pd"
   ]
  },
  {
   "cell_type": "markdown",
   "metadata": {},
   "source": [
    "1. В файлах архиве `reviews_full.zip` находятся файлы, содержащие информацию об отзывах к рецептам в формате JSON Lines. Отзывы разделены на файлы в зависимости от оценки (например, в файле `reviews_1.json` находятся отзывы с оценкой 1). Считайте файлы из этого архива в виде `dask.bag`. Преобразуйте текстовое содержимое файлов в объекты python (с помощью модуля `json`). Выведите на экран первые 5 элементов полученного `bag`."
   ]
  },
  {
   "cell_type": "code",
   "execution_count": 29,
   "metadata": {},
   "outputs": [],
   "source": [
    "DATA_GLOB = \"reviews_*.json\"\n",
    "rating_re = re.compile(r\"reviews_(\\d+)\\.json$\")"
   ]
  },
  {
   "cell_type": "code",
   "execution_count": 23,
   "metadata": {},
   "outputs": [
    {
     "name": "stdout",
     "output_type": "stream",
     "text": [
      "Первые 5 элементов: ({'user_id': 452355, 'recipe_id': 292657, 'date': '2016-05-08', 'review': 'WOW!!! This is the best. I have never been able to make homemade enchiladas that taste like the Mexican restaurants. I made this last night for my family and they said they will never have enchiladas at the Mexican Restaurants again. Thanks for sharing.'}, {'user_id': 329304, 'recipe_id': 433404, 'date': '2006-06-14', 'review': 'This was good but the dressing needed something and I found it to be a little too sweet, next time I will experiment with some garlic and herbs and reduce the sugar slightly, thanks for sharing kcdlong!...Kitten'}, {'user_id': 227932, 'recipe_id': 2008187, 'date': '1985-11-19', 'review': 'Very good,it was a hit for my family. I used 6 cloves of garlic and had 1 lb beef and  Johnsonville sausage,1/2 lb hot and  1/2 lb honey garlic( which I wanted to use). That was a perfect combo for us. The sausage gave it nice flavor No guestion , I will be making this often.'}, {'user_id': 171468, 'recipe_id': 270716, 'date': '2019-05-21', 'review': 'Made for ZWT-8 Family Picks after I saw these mentioned in the Family Picks thread. So I got up this morning, made my morning coffee while the oven was heating & then made these quick-fix sweet treats B4 I was ready for my 2nd cup of coffee. I used 8\" tortillas (all I had on-hand) & cut them into 8 wedges. Then I used 2 of my Pamperd Chef gadgets .. my sml basting brush to spread the honey on the warm tortillas & my flour/sugar shaker to sprinkle the powd sugar/cinnamon mixture atop the honeyed tortillas. It might have taken a total of 2 min from oven to tasting! Yum! Using the same \"sweet mix\" these would also be good w/butter, cream cheese or even lime juice. Can\\'t wait to try them w/lime juice! Thx for sharing this tasty little treat w/us.'}, {'user_id': 91392, 'recipe_id': 1159916, 'date': '1972-09-18', 'review': \"Very nice slaw. I especially like that it doesn't have the mayo dressing. I used a prepackaged Cole slaw mix, so i didn't include the carrots nor the nuts. I also doubled the sauce. :)\"})\n"
     ]
    }
   ],
   "source": [
    "# Считывание JSON Lines как dask.bag + предпросмотр\n",
    "bag_raw = db.read_text(DATA_GLOB, include_path=True)     # (line, path)\n",
    "bag = bag_raw.map(lambda lp: json.loads(lp[0]))\n",
    "print(\"Первые 5 элементов:\", bag.take(5))"
   ]
  },
  {
   "cell_type": "markdown",
   "metadata": {},
   "source": [
    "2. Модифицируйте функцию разбора JSON таким образом, чтобы в каждый словарь c информацией об отзыве добавить ключ `rating`. Значение получите на основе названия файла (см. аргумент `include_path`), использовав для этого регулярное выражение."
   ]
  },
  {
   "cell_type": "code",
   "execution_count": 31,
   "metadata": {},
   "outputs": [
    {
     "name": "stdout",
     "output_type": "stream",
     "text": [
      "Первые 5 элементов: ({'user_id': 452355, 'recipe_id': 292657, 'date': '2016-05-08', 'review': 'WOW!!! This is the best. I have never been able to make homemade enchiladas that taste like the Mexican restaurants. I made this last night for my family and they said they will never have enchiladas at the Mexican Restaurants again. Thanks for sharing.', 'rating': 0}, {'user_id': 329304, 'recipe_id': 433404, 'date': '2006-06-14', 'review': 'This was good but the dressing needed something and I found it to be a little too sweet, next time I will experiment with some garlic and herbs and reduce the sugar slightly, thanks for sharing kcdlong!...Kitten', 'rating': 0}, {'user_id': 227932, 'recipe_id': 2008187, 'date': '1985-11-19', 'review': 'Very good,it was a hit for my family. I used 6 cloves of garlic and had 1 lb beef and  Johnsonville sausage,1/2 lb hot and  1/2 lb honey garlic( which I wanted to use). That was a perfect combo for us. The sausage gave it nice flavor No guestion , I will be making this often.', 'rating': 0}, {'user_id': 171468, 'recipe_id': 270716, 'date': '2019-05-21', 'review': 'Made for ZWT-8 Family Picks after I saw these mentioned in the Family Picks thread. So I got up this morning, made my morning coffee while the oven was heating & then made these quick-fix sweet treats B4 I was ready for my 2nd cup of coffee. I used 8\" tortillas (all I had on-hand) & cut them into 8 wedges. Then I used 2 of my Pamperd Chef gadgets .. my sml basting brush to spread the honey on the warm tortillas & my flour/sugar shaker to sprinkle the powd sugar/cinnamon mixture atop the honeyed tortillas. It might have taken a total of 2 min from oven to tasting! Yum! Using the same \"sweet mix\" these would also be good w/butter, cream cheese or even lime juice. Can\\'t wait to try them w/lime juice! Thx for sharing this tasty little treat w/us.', 'rating': 0}, {'user_id': 91392, 'recipe_id': 1159916, 'date': '1972-09-18', 'review': \"Very nice slaw. I especially like that it doesn't have the mayo dressing. I used a prepackaged Cole slaw mix, so i didn't include the carrots nor the nuts. I also doubled the sauce. :)\", 'rating': 0})\n"
     ]
    }
   ],
   "source": [
    "# Парсинг с добавлением rating из имени файла\n",
    "def parse_with_rating(lp):\n",
    "    \"\"\"\n",
    "    lp = (line, path) из dask.bag с include_path=True\n",
    "    line — строка JSON, path — полный путь к файлу\n",
    "    \"\"\"\n",
    "    line, path = lp\n",
    "    obj = json.loads(line)\n",
    "    # гарантированно найдёт число из имени файла\n",
    "    m = rating_re.search(path)\n",
    "    if m:\n",
    "        obj[\"rating\"] = int(m.group(1))\n",
    "    else:\n",
    "        raise ValueError(f\"Не удалось извлечь rating из имени файла: {path}\")\n",
    "    return obj\n",
    "\n",
    "bag_rated = bag_raw.map(parse_with_rating)\n",
    "print(\"Первые 5 элементов:\", bag_rated.take(5))"
   ]
  },
  {
   "cell_type": "markdown",
   "metadata": {},
   "source": [
    "3. Посчитайте количество отзывов в исходном датасете."
   ]
  },
  {
   "cell_type": "code",
   "execution_count": 33,
   "metadata": {},
   "outputs": [
    {
     "name": "stdout",
     "output_type": "stream",
     "text": [
      "Всего отзывов: 9057540\n"
     ]
    }
   ],
   "source": [
    "print(\"Всего отзывов:\", bag_rated.count().compute())"
   ]
  },
  {
   "cell_type": "markdown",
   "metadata": {},
   "source": [
    "4. Отфильтруйте `bag`, сохранив только отзывы, оставленные в 2014 и 2015 годах."
   ]
  },
  {
   "cell_type": "code",
   "execution_count": 35,
   "metadata": {},
   "outputs": [
    {
     "name": "stdout",
     "output_type": "stream",
     "text": [
      "Первые 5 элементов: ({'user_id': 229850, 'recipe_id': 1300038, 'date': '2014-10-03', 'review': 'Took this to a New Year&#039;s Eve Party. Everyone loved it! It&#039;s absolutely perfect, the flavor, the crunch, just delicious!', 'rating': 0}, {'user_id': 2706705, 'recipe_id': 133747, 'date': '2015-05-08', 'review': 'Simple and easy way to enjoy a slice of pizza any time!  Well-toasted bread is the key - really toast it!  I put a bit of pizza sauce underneath my cheese for a more pizza-like flavor.  I used sourdough bread & medium cheddar cheese.  Fast & fun!  Great idea!  Made for 1-2-3 Hits Tag Game.', 'rating': 0}, {'user_id': 945545, 'recipe_id': 898468, 'date': '2015-06-30', 'review': 'Delish!  I wanted to make this spicy so I used hot enchilada sauce and jalapeno refried beans.  I forgot to buy the onions so I doctored up the beans with onion powder and granulated garlic.  Added the olives under the cheese and baked, uncovered, for the 25 minutes.  Served with pico de gallo, sour cream and avocado chunks.  Fantastic!  Thanks for sharing, lazyme!', 'rating': 0}, {'user_id': 262915, 'recipe_id': 1657686, 'date': '2015-11-29', 'review': 'This is seriously delicious.  I mixed it up the night before and baked it in the morning before work.  Made the sauce the night before and refrigerated overnight and heated in microwave.  Such an unusual combination but it kind of reminded me of the pancake on a stick that my kids used to get at the convenience store (sausage wrapped in a pancake, kind of like a corn dog.  Making it again this week and will try to get a pic this time!', 'rating': 0}, {'user_id': 2000408662, 'recipe_id': 128848, 'date': '2015-08-17', 'review': 'Many thanks. Found the recipe truly marvellous! I can now make full use of the lemons growing in my garden.The marmalade was delicious and very easy to make. Since it was the first time, I didn&#039;t want to use a large quantity and so I halved the measures after converting them into grams. Please could we have measurements of ingredients in  recipes in the metric system, i.e. grams and litres,and not in pounds?  Now I am going to search for a recipe to make lemon squash', 'rating': 0})\n"
     ]
    }
   ],
   "source": [
    "def is_2014_or_2015(o):\n",
    "    d = o.get(\"date\",\"\")\n",
    "    return d.startswith(\"2014-\") or d.startswith(\"2015-\")\n",
    "\n",
    "bag_f = bag_rated.filter(is_2014_or_2015)\n",
    "print(\"Первые 5 элементов:\", bag_f.take(5))"
   ]
  },
  {
   "cell_type": "markdown",
   "metadata": {},
   "source": [
    "5. Выполните препроцессинг отзывов:\n",
    "    * привести строки к нижнему регистру\n",
    "    * обрезать пробельные символы в начале и конце строки\n",
    "    * удалите все символы, кроме английских букв и пробелов\n",
    "    \n",
    "Примените препроцессинг ко всем записям из `bag`, полученного в задании 4."
   ]
  },
  {
   "cell_type": "code",
   "execution_count": 39,
   "metadata": {},
   "outputs": [
    {
     "name": "stdout",
     "output_type": "stream",
     "text": [
      "Первые 5 элементов: ({'user_id': 229850, 'recipe_id': 1300038, 'date': '2014-10-03', 'review': 'took this to a new year s eve party everyone loved it it s absolutely perfect the flavor the crunch just delicious', 'rating': 0}, {'user_id': 2706705, 'recipe_id': 133747, 'date': '2015-05-08', 'review': 'simple and easy way to enjoy a slice of pizza any time well toasted bread is the key really toast it i put a bit of pizza sauce underneath my cheese for a more pizza like flavor i used sourdough bread medium cheddar cheese fast fun great idea made for hits tag game', 'rating': 0}, {'user_id': 945545, 'recipe_id': 898468, 'date': '2015-06-30', 'review': 'delish i wanted to make this spicy so i used hot enchilada sauce and jalapeno refried beans i forgot to buy the onions so i doctored up the beans with onion powder and granulated garlic added the olives under the cheese and baked uncovered for the minutes served with pico de gallo sour cream and avocado chunks fantastic thanks for sharing lazyme', 'rating': 0}, {'user_id': 262915, 'recipe_id': 1657686, 'date': '2015-11-29', 'review': 'this is seriously delicious i mixed it up the night before and baked it in the morning before work made the sauce the night before and refrigerated overnight and heated in microwave such an unusual combination but it kind of reminded me of the pancake on a stick that my kids used to get at the convenience store sausage wrapped in a pancake kind of like a corn dog making it again this week and will try to get a pic this time', 'rating': 0}, {'user_id': 2000408662, 'recipe_id': 128848, 'date': '2015-08-17', 'review': 'many thanks found the recipe truly marvellous i can now make full use of the lemons growing in my garden the marmalade was delicious and very easy to make since it was the first time i didn t want to use a large quantity and so i halved the measures after converting them into grams please could we have measurements of ingredients in recipes in the metric system i e grams and litres and not in pounds now i am going to search for a recipe to make lemon squash', 'rating': 0})\n"
     ]
    }
   ],
   "source": [
    "# Препроцессинг текста\n",
    "non_en = re.compile(r\"[^a-zA-Z\\s]\")\n",
    "def preprocess(o):\n",
    "    t = (o.get(\"review\") or \"\").lower().strip()\n",
    "    t = non_en.sub(\" \", t)\n",
    "    t = re.sub(r\"\\s+\", \" \", t).strip()\n",
    "    o2 = dict(o); o2[\"review\"] = t\n",
    "    return o2\n",
    "bag_p = bag_f.map(preprocess)\n",
    "print(\"Первые 5 элементов:\", bag_p.take(5))"
   ]
  },
  {
   "cell_type": "markdown",
   "metadata": {},
   "source": [
    "6. Посчитайте количество отзывов в датасете, полученном в результате решения задачи 5. В случае ошибок прокомментируйте результат и исправьте функцию препроцессинга."
   ]
  },
  {
   "cell_type": "code",
   "execution_count": 41,
   "metadata": {},
   "outputs": [
    {
     "name": "stdout",
     "output_type": "stream",
     "text": [
      "После препроцессинга: 735274\n"
     ]
    }
   ],
   "source": [
    "# Кол-во после препроцессинга\n",
    "print(\"После препроцессинга:\", bag_p.count().compute())"
   ]
  },
  {
   "cell_type": "markdown",
   "metadata": {},
   "source": [
    "7. Посчитайте, как часто в наборе, полученном в задании 5, встречается та или иная оценка"
   ]
  },
  {
   "cell_type": "code",
   "execution_count": 43,
   "metadata": {},
   "outputs": [
    {
     "name": "stdout",
     "output_type": "stream",
     "text": [
      " rating  count\n",
      "      0  42472\n",
      "      1   9246\n",
      "      2   9380\n",
      "      3  26532\n",
      "      4 119413\n",
      "      5 528231\n"
     ]
    }
   ],
   "source": [
    "# Частоты оценок\n",
    "freq = dict(bag_p.pluck(\"rating\").frequencies().compute())\n",
    "freq_df = pd.DataFrame(sorted(freq.items()), columns=[\"rating\",\"count\"])\n",
    "print(freq_df.to_string(index=False))"
   ]
  },
  {
   "cell_type": "markdown",
   "metadata": {},
   "source": [
    "8. Найдите среднее значение `rating` в выборке"
   ]
  },
  {
   "cell_type": "code",
   "execution_count": 45,
   "metadata": {},
   "outputs": [
    {
     "name": "stdout",
     "output_type": "stream",
     "text": [
      "Средняя оценка: 4.388036296673077\n"
     ]
    }
   ],
   "source": [
    "# Средняя оценка\n",
    "avg_rating = (freq_df[\"rating\"]*freq_df[\"count\"]).sum()/freq_df[\"count\"].sum() if len(freq_df)>0 else float(\"nan\")\n",
    "print(\"Средняя оценка:\", avg_rating)"
   ]
  },
  {
   "cell_type": "markdown",
   "metadata": {},
   "source": [
    "9. Используя метод `foldby`, подсчитать максимальную длину отзывов в зависимости от оценки `rating` в наборе, полученном в задании 5."
   ]
  },
  {
   "cell_type": "code",
   "execution_count": 47,
   "metadata": {},
   "outputs": [
    {
     "name": "stdout",
     "output_type": "stream",
     "text": [
      " rating  max_review_length\n",
      "      0               6640\n",
      "      1               3131\n",
      "      2               2833\n",
      "      3               3162\n",
      "      4               6640\n",
      "      5               5397\n"
     ]
    }
   ],
   "source": [
    "# foldby: макс длина отзыва по rating\n",
    "def key_rating(o): return o[\"rating\"]\n",
    "def binop_max(acc, o): return max(acc, len(o.get(\"review\",\"\")))\n",
    "max_len = bag_p.foldby(key=key_rating, binop=binop_max, initial=0, combine=max, combine_initial=0).compute()\n",
    "max_df = pd.DataFrame(sorted(max_len), columns=[\"rating\",\"max_review_length\"])\n",
    "print(max_df.to_string(index=False))"
   ]
  }
 ],
 "metadata": {
  "kernelspec": {
   "display_name": "Python 3 (ipykernel)",
   "language": "python",
   "name": "python3"
  },
  "language_info": {
   "codemirror_mode": {
    "name": "ipython",
    "version": 3
   },
   "file_extension": ".py",
   "mimetype": "text/x-python",
   "name": "python",
   "nbconvert_exporter": "python",
   "pygments_lexer": "ipython3",
   "version": "3.11.5"
  }
 },
 "nbformat": 4,
 "nbformat_minor": 4
}
